{
 "cells": [
  {
   "cell_type": "code",
   "execution_count": 6,
   "metadata": {},
   "outputs": [
    {
     "name": "stdout",
     "output_type": "stream",
     "text": [
      "('/home/papillon/anaconda3/envs/carnd-term1/lib/python3.5/site-packages/cv2.cpython-35m-x86_64-linux-gnu.so', '3.1.0')\n",
      "unable to open video file\n"
     ]
    }
   ],
   "source": [
    "import numpy as np\n",
    "import cv2\n",
    "import sys\n",
    "import skvideo.io\n",
    "\n",
    "#cap = cv2.VideoCapture(0)\n",
    "#cap = cv2.VideoCapture('project_video.mp4')\n",
    "print((cv2.__file__, cv2.__version__))\n",
    "cap = cv2.VideoCapture('project_video.mp4')\n",
    "#cap = cv2.VideoCapture(0)\n",
    "width= cap.get(cv2.CAP_PROP_FRAME_WIDTH)\n",
    "height = cap.get(cv2.CAP_PROP_FRAME_HEIGHT)\n",
    "fps = cap.get(cv2.CAP_PROP_FPS)\n",
    "length = cap.get(cv2.CAP_PROP_FRAME_COUNT)\n",
    "\n",
    "ret, frame = cap.read()\n",
    "if not ret:\n",
    "    print(\"unable to open video file\")\n",
    "    #raise IOError('unable to open video')\n",
    "\n",
    "# start the FFmpeg writing subprocess with following parameters\n",
    "outputfile = \"test.mp4\"\n",
    "writer = skvideo.io.FFmpegWriter(outputfile)\n",
    "\n",
    "# Define the codec and create VideoWriter object\n",
    "#fourcc = cv2.VideoWriter_fourcc(*'X264')\n",
    "#out = cv2.VideoWriter('output.avi',fourcc, fps, (int(width),int(height)), True)\n",
    "while(cap.isOpened()):\n",
    "    # Capture frame-by-frame\n",
    "    ret, frame = cap.read()\n",
    "    if not ret: \n",
    "        break\n",
    "        \n",
    "    # Our operations on the frame come here\n",
    "    #gray = cv2.cvtColor(frame, cv2.COLOR_BGR2GRAY)\n",
    "    #edges = cv2.Canny(gray,100,200)\n",
    "    edges = cv2.Canny(frame,100,200)\n",
    "    \n",
    "    # Display the resulting frame\n",
    "    cv2.imshow('frame',edges)\n",
    "    if cv2.waitKey(1) & 0xFF == ord('q'):\n",
    "        break\n",
    "    \n",
    "    #writer.writeFrame(frame.astype(np.uint8))\n",
    "    \n",
    "    \n",
    "    print('total number of frames: ', cap.get(cv2.CAP_PROP_FRAME_COUNT),\n",
    "          'current frame: ',cap.get(cv2.CAP_PROP_POS_FRAMES),\n",
    "          'elapsed time: ',cap.get(cv2.CAP_PROP_POS_MSEC),end='\\r')\n",
    "    \n",
    "\n",
    "# When everything done, release the capture\n",
    "cap.release()\n",
    "#out.release()\n",
    "cv2.destroyAllWindows()\n",
    "#cv2.waitKey(1)"
   ]
  },
  {
   "cell_type": "code",
   "execution_count": null,
   "metadata": {},
   "outputs": [],
   "source": []
  }
 ],
 "metadata": {
  "kernelspec": {
   "display_name": "Python 3",
   "language": "python",
   "name": "python3"
  },
  "language_info": {
   "codemirror_mode": {
    "name": "ipython",
    "version": 3
   },
   "file_extension": ".py",
   "mimetype": "text/x-python",
   "name": "python",
   "nbconvert_exporter": "python",
   "pygments_lexer": "ipython3",
   "version": "3.5.2"
  },
  "widgets": {
   "state": {},
   "version": "1.1.2"
  }
 },
 "nbformat": 4,
 "nbformat_minor": 2
}
